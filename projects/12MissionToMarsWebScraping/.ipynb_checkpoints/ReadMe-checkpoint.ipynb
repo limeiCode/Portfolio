{
 "cells": [
  {
   "cell_type": "markdown",
   "metadata": {},
   "source": [
    "# MissionToMarsWebScraping\n",
    "\n",
    "## Mission to Mars Web Scraping\n",
    "\n",
    "This project used <span style=\"color:blue;\">**Flask**</span> and <span style=\"color:blue;\">**MongoDB**</span> to scrape from various websites for data related to the Mission to Mars then render templates with the scraped data by using <span style=\"color:blue;\">**Jinja template**</span> library on a HTML page. \n",
    "\n",
    "- - -\n",
    "\n",
    "![mission_to_mars1.jpg](Images/mission_to_mars1.jpg)\n",
    "\n",
    "- - -\n",
    "\n",
    "\n",
    "\n",
    "## Scraping source websites and contents\n",
    "\n",
    "* NASA Mars News: Scrape the [NASA Mars News Site](https://mars.nasa.gov/news/) and collect the latest News Title and Paragraph Text. \n",
    "\n",
    "* JPL Mars Space Images: Scrape the [here](https://www.jpl.nasa.gov/spaceimages/?search=&category=Mars) and collect the current Featured Mars Image.\n",
    "\n",
    "* Mars Weather twitter: Scrapte [here](https://twitter.com/marswxreport?lang=en) and collect the latest Mars weather tweet. \n",
    "\n",
    "* Mars Facts: Scrape [here](https://space-facts.com/mars/) and collect the facts about the planet including Diameter, Mass, etc.\n",
    "\n",
    "* USGS Astrogeology Mars Hemispheres: Scrape [here](https://astrogeology.usgs.gov/search/results?q=hemisphere+enhanced&k1=target&v1=Mars) and collect high resolution images for each of Mar's hemispheres.\n",
    "\n",
    "## Technologies Used\n",
    "\n",
    "* Web Scraping Framework **selenium** and it's API **webdriver** are used to connect with the browser and navigate the sites.\n",
    "\n",
    "* Third party Python library **Beautiful Soup** is used to parse out the necessary data from HTML documents using the parse tree created by Beautiful Soup.\n",
    "\n",
    "* Python data manipulation and analysis library **pandas** is used for importing table data from a webpage adn convert the data to a HTML table string. \n",
    "\n",
    "* Python web framework **Flask** and it's extensions **render_template** and **redirect** are used to establish database connection,  to render templates with specific data by using Jinja template library, redirect route back to home page.\n",
    "\n",
    "* Python distribution **PyMongo** is used in this *CRUD* application for working with MongoDB through **Flask-PyMongo**'s bridging Flask and PyMongo. MongoDB stores flexible JSON-like documents which is a searchable repository of Python dictionaries. \n",
    "\n",
    "## Project Files:\n",
    "\n",
    "* **scrape_mars.py**: scraper has a function called `scrape` that will execute all scraping code from five websites and return one Python dictionary containing all of the scraped data. \n",
    "\n",
    "* **app.py**: Flask Application has two routes. The root route `/` that will query Mongo database and pass the current mars data into an HTML template to display the data. The other route called `/scrape` that will import `scrape_mars.py` script and call `scrape` function and store new mars data - the return value in Mongo as a Python dictionary. \n",
    "\n",
    "* **index.html**: a template HTML file structured using bootstrap takes the mars data dictionary and displays all of the data in the appropriate HTML elements.\n",
    "\n",
    "\n",
    "## Final Results\n",
    "\n",
    "By sending requests from brower to the Flask server can get below results: \n",
    "\n",
    "- - -\n",
    "\n",
    "![result_1.png](resultimages/result_1.png)\n",
    "![result_2.png](resultimages/result_2.png)\n",
    "\n",
    "- - -\n"
   ]
  }
 ],
 "metadata": {
  "kernelspec": {
   "display_name": "Python 3",
   "language": "python",
   "name": "python3"
  },
  "language_info": {
   "codemirror_mode": {
    "name": "ipython",
    "version": 3
   },
   "file_extension": ".py",
   "mimetype": "text/x-python",
   "name": "python",
   "nbconvert_exporter": "python",
   "pygments_lexer": "ipython3",
   "version": "3.7.3"
  }
 },
 "nbformat": 4,
 "nbformat_minor": 2
}
